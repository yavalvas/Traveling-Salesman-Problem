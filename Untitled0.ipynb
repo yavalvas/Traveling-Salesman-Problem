{
 "metadata": {
  "name": "Untitled0"
 }, 
 "nbformat": 2, 
 "worksheets": [
  {
   "cells": [
    {
     "cell_type": "code", 
     "collapsed": true, 
     "input": [
      "sel_city = [[10, 10, 1], [20, 20, 2], [30, 30, 3]]"
     ], 
     "language": "python", 
     "outputs": [], 
     "prompt_number": 14
    }, 
    {
     "cell_type": "code", 
     "collapsed": true, 
     "input": [
      "unsel_city = [[40, 40, 4], [50, 50, 5], [60, 60, 6], [70, 70, 7], [80, 80, 8]]"
     ], 
     "language": "python", 
     "outputs": [], 
     "prompt_number": 2
    }, 
    {
     "cell_type": "code", 
     "collapsed": false, 
     "input": [
      "duper = sel_city * unsel_city"
     ], 
     "language": "python", 
     "outputs": [
      {
       "ename": "TypeError", 
       "evalue": "can't multiply sequence by non-int of type 'list'", 
       "output_type": "pyerr", 
       "traceback": [
        "\u001b[0;31m---------------------------------------------------------------------------\u001b[0m\n\u001b[0;31mTypeError\u001b[0m                                 Traceback (most recent call last)", 
        "\u001b[0;32m/home/verkter/Dropbox/GA/Assignments/Assignment2/<ipython-input-3-8d5f9e37a31f>\u001b[0m in \u001b[0;36m<module>\u001b[0;34m()\u001b[0m\n\u001b[0;32m----> 1\u001b[0;31m \u001b[0mduper\u001b[0m \u001b[0;34m=\u001b[0m \u001b[0msel_city\u001b[0m \u001b[0;34m*\u001b[0m \u001b[0munsel_city\u001b[0m\u001b[0;34m\u001b[0m\u001b[0m\n\u001b[0m", 
        "\u001b[0;31mTypeError\u001b[0m: can't multiply sequence by non-int of type 'list'"
       ]
      }
     ], 
     "prompt_number": 3
    }, 
    {
     "cell_type": "code", 
     "collapsed": false, 
     "input": [
      "#def distance_comp(list1, list2):", 
      "#    sel_city_x = [x[0] for x in list1]", 
      "#    sel_city_y = [x[1] for x in list1]", 
      "#    sel_city_name = [x[2] for x in list1]", 
      "import math", 
      "    ", 
      "ab = []", 
      "", 
      "for x, y in [(x,y) for x in sel_city for y in unsel_city]:", 
      "    #ab.append([sel_city[i][0]*unsel_city[i][0], sel_city[i][1]*unsel_city[i][1]])", 
      "    distance = 0", 
      "    x1 = x[0]", 
      "    y1 = x[1]", 
      "    x2 = y[0]", 
      "    y2 = y[1]", 
      "    name_unsel = y[2]", 
      "    distance = math.sqrt(((x2-x1)**2)+((y2-y1)**2))", 
      "    ab.append([x2, y2, name_unsel, distance])", 
      "", 
      "len(ab)", 
      "    #ab.append([math.sqrt(([unsel_city[i][0] - [sel_city[i][0])**2 + ([unsel_city[i][1] - [sel_city[i][1])**2)])", 
      "    "
     ], 
     "language": "python", 
     "outputs": [
      {
       "output_type": "pyout", 
       "prompt_number": 4, 
       "text": [
        "15"
       ]
      }
     ], 
     "prompt_number": 4
    }, 
    {
     "cell_type": "code", 
     "collapsed": false, 
     "input": [
      "for x, y in zip(sel_city, unsel_city):", 
      "    print x, y"
     ], 
     "language": "python", 
     "outputs": [
      {
       "output_type": "stream", 
       "stream": "stdout", 
       "text": [
        "[10, 10, 1] [40, 40, 4]", 
        "[20, 20, 2] [50, 50, 5]", 
        "[30, 30, 3] [60, 60, 6]"
       ]
      }
     ], 
     "prompt_number": 5
    }, 
    {
     "cell_type": "code", 
     "collapsed": false, 
     "input": [
      "a = ['a1', 'a2', 'a3']", 
      "b = ['b1', 'b2']", 
      "", 
      "# will iterate 3 times,", 
      "# the last iteration, b will be None", 
      "print \"Map:\"", 
      "for x, y in map(None, a, b):", 
      "  print x, y", 
      "", 
      "# will iterate 2 times,", 
      "# the third value of a will not be used", 
      "print \"Zip:\"", 
      "for x, y in zip(a, b):", 
      "  print x, y", 
      "", 
      "# will iterate 6 times,", 
      "# it will iterate over each b, for each a", 
      "# producing a slightly different outpu", 
      "print \"List:\"", 
      "for x, y in [(x,y) for x in a for y in b]:", 
      "    print x, y"
     ], 
     "language": "python", 
     "outputs": [
      {
       "output_type": "stream", 
       "stream": "stdout", 
       "text": [
        "Map:", 
        "a1 b1", 
        "a2 b2", 
        "a3 None", 
        "Zip:", 
        "a1 b1", 
        "a2 b2", 
        "List:", 
        "a1 b1", 
        "a1 b2", 
        "a2 b1", 
        "a2 b2", 
        "a3 b1", 
        "a3 b2"
       ]
      }
     ], 
     "prompt_number": 6
    }, 
    {
     "cell_type": "code", 
     "collapsed": false, 
     "input": [
      "listX = [x for x in xrange(11)]", 
      "", 
      "while listX:", 
      "    listX.pop()", 
      "    print listX"
     ], 
     "language": "python", 
     "outputs": [
      {
       "output_type": "stream", 
       "stream": "stdout", 
       "text": [
        "[0, 1, 2, 3, 4, 5, 6, 7, 8, 9]", 
        "[0, 1, 2, 3, 4, 5, 6, 7, 8]", 
        "[0, 1, 2, 3, 4, 5, 6, 7]", 
        "[0, 1, 2, 3, 4, 5, 6]", 
        "[0, 1, 2, 3, 4, 5]", 
        "[0, 1, 2, 3, 4]", 
        "[0, 1, 2, 3]", 
        "[0, 1, 2]", 
        "[0, 1]", 
        "[0]", 
        "[]"
       ]
      }
     ], 
     "prompt_number": 21
    }, 
    {
     "cell_type": "code", 
     "collapsed": false, 
     "input": [
      "listX = [x for x in xrange(11)]", 
      "", 
      "while len(listX) > 0:", 
      "    listX.pop()", 
      "    print listX"
     ], 
     "language": "python", 
     "outputs": [
      {
       "output_type": "stream", 
       "stream": "stdout", 
       "text": [
        "[0, 1, 2, 3, 4, 5, 6, 7, 8, 9]", 
        "[0, 1, 2, 3, 4, 5, 6, 7, 8]", 
        "[0, 1, 2, 3, 4, 5, 6, 7]", 
        "[0, 1, 2, 3, 4, 5, 6]", 
        "[0, 1, 2, 3, 4, 5]", 
        "[0, 1, 2, 3, 4]", 
        "[0, 1, 2, 3]", 
        "[0, 1, 2]", 
        "[0, 1]", 
        "[0]", 
        "[]"
       ]
      }
     ], 
     "prompt_number": 23
    }, 
    {
     "cell_type": "code", 
     "collapsed": true, 
     "input": [], 
     "language": "python", 
     "outputs": []
    }
   ]
  }
 ]
}